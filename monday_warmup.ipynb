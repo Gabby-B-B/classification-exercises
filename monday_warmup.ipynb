{
 "cells": [
  {
   "cell_type": "code",
   "execution_count": 18,
   "metadata": {},
   "outputs": [],
   "source": [
    "import pandas as pd"
   ]
  },
  {
   "cell_type": "markdown",
   "metadata": {},
   "source": [
    "<h1 style=\"font-family:luminari\"><h1 style= \"color: darkolivegreen\"> Monday Morning Warmup </h1>\n",
    "Take the word EASY: Its first three letters — E, A and S — are the fifth, first, and nineteenth letters, respectively, in the alphabet. If you add 5, 1, and 19, you get 25, which is the value of the alphabetical position of Y, the last letter of EASY.\n",
    "Can you think of a common five-letter word that works in the opposite way — in which the value of the alphabetical positions of its last four letters add up to the value of the alphabetical position of its first letter?\n",
    "Think about how to break this problem down into steps and write out a plan for your solution.\n",
    "There is a file on your mac that contains a list of words -- /usr/share/dict/words.\n",
    "Open this file with either python or pandas and implement your solution."
   ]
  },
  {
   "cell_type": "code",
   "execution_count": 32,
   "metadata": {},
   "outputs": [],
   "source": [
    "words= pd.read_csv ('dictionary.csv')\n",
    "dic= list(words)"
   ]
  },
  {
   "cell_type": "code",
   "execution_count": 30,
   "metadata": {},
   "outputs": [
    {
     "data": {
      "text/plain": [
       "25"
      ]
     },
     "execution_count": 30,
     "metadata": {},
     "output_type": "execute_result"
    }
   ],
   "source": [
    "def total_letter(letter):  \n",
    "    return 'abcdefghijklmnopqrstuvwxyz'.index(letter.lower())+1\n",
    "total_letter('y')"
   ]
  },
  {
   "cell_type": "code",
   "execution_count": 31,
   "metadata": {},
   "outputs": [
    {
     "data": {
      "text/plain": [
       "24"
      ]
     },
     "execution_count": 31,
     "metadata": {},
     "output_type": "execute_result"
    }
   ],
   "source": [
    "def total_word (word):\n",
    "    total =0\n",
    "    for letter in word:\n",
    "        total += total_letter(letter)\n",
    "    return total\n",
    "total_word('cat')    "
   ]
  },
  {
   "cell_type": "code",
   "execution_count": 45,
   "metadata": {},
   "outputs": [
    {
     "data": {
      "text/plain": [
       "False"
      ]
     },
     "execution_count": 45,
     "metadata": {},
     "output_type": "execute_result"
    }
   ],
   "source": [
    "def word_match (word):\n",
    "    if len(word) != 5:\n",
    "        return False\n",
    "    first_letter= word [0]\n",
    "    last_four= word [1:]\n",
    "\n",
    "    return total_word(last_four)==total_word(first_letter)\n",
    "\n",
    "word_match('cat')"
   ]
  },
  {
   "cell_type": "code",
   "execution_count": 41,
   "metadata": {},
   "outputs": [],
   "source": [
    "with open('/usr/share/dict/words') as f:\n",
    "    words = f.read().strip().split('\\n')"
   ]
  },
  {
   "cell_type": "code",
   "execution_count": 46,
   "metadata": {},
   "outputs": [
    {
     "name": "stdout",
     "output_type": "stream",
     "text": [
      "raffe\n",
      "Sadie\n",
      "sifac\n",
      "table\n",
      "Uchee\n",
      "vakia\n",
      "Vicia\n",
      "wanga\n",
      "whack\n",
      "Xicak\n",
      "yeara\n",
      "zebra\n"
     ]
    }
   ],
   "source": [
    "for word in words:\n",
    "    if word_match(word):\n",
    "        print(word)"
   ]
  },
  {
   "cell_type": "code",
   "execution_count": null,
   "metadata": {},
   "outputs": [],
   "source": []
  }
 ],
 "metadata": {
  "kernelspec": {
   "display_name": "Python 3",
   "language": "python",
   "name": "python3"
  },
  "language_info": {
   "codemirror_mode": {
    "name": "ipython",
    "version": 3
   },
   "file_extension": ".py",
   "mimetype": "text/x-python",
   "name": "python",
   "nbconvert_exporter": "python",
   "pygments_lexer": "ipython3",
   "version": "3.7.6"
  }
 },
 "nbformat": 4,
 "nbformat_minor": 4
}
