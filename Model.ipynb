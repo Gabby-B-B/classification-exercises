{
 "cells": [
  {
   "cell_type": "markdown",
   "metadata": {},
   "source": [
    "<h1><h1 style= \"color:teal;\">Model Exercise</h1>\n",
    "    <p style=\"color:turquoise;\">\n",
    "In this exercise, we'll continue working with the titanic dataset and building logistic regression models. Throughout this exercise, be sure you are training, evaluation, and comparing models on the train and validate datasets. The test dataset should only be used for your final model.\n",
    "\n",
    "For all of the models you create, choose a threshold that optimizes for accuracy.\n",
    "\n",
    "Do your work for these exercises in either a notebook or a python script named model within your classification-exercises repository. Add, commit, and push your work. </p>\n",
    "    \n",
    "<ol style: \"color:SeaGreen;\">\n",
    "\n",
    "\n",
    "\n",
    "\n",
    "<li>Try out other combinations of features and models. </li>\n",
    "\n",
    "<li>Use you best 3 models to predict and evaluate on your validate sample. </li>\n",
    "\n",
    "<li>Choose you best model from the validation performation, and evaluate it on the test dataset. How do the performance metrics compare to validate? to train? </li>\n",
    "\n",
    "<li>Bonus1 How do different strategies for handling the missing values in the age column affect model performance?</li>\n",
    "\n",
    "<li>Bonus2: How do different strategies for encoding sex affect model performance?</li>\n",
    "\n",
    "<li>Bonus3: scikit-learn's LogisticRegression classifier is actually applying a regularization penalty to the coefficients by default. This penalty causes the magnitude of the coefficients in the resulting model to be smaller than they otherwise would be. This value can be modified with the C hyper parameter. Small values of C correspond to a larger penalty, and large values of C correspond to a smaller penalty.\n",
    "    \n",
    "Try out the following values for C and note how the coefficients and the model's performance on both the dataset it was trained on and on the validate split are affected.<br>\n",
    "C=.01,.1,1,10,100,1000 </li>\n",
    "<li> Bonus Bonus: how does scaling the data interact with your choice of C? </li>\n",
    "    </ol>"
   ]
  },
  {
   "cell_type": "code",
   "execution_count": 55,
   "metadata": {},
   "outputs": [],
   "source": [
    "import numpy as np\n",
    "import pandas as pd\n",
    "from sklearn.model_selection import train_test_split\n",
    "from sklearn.linear_model import LogisticRegression\n",
    "from sklearn.metrics import classification_report\n",
    "from sklearn.metrics import confusion_matrix\n",
    "\n",
    "import statsmodels.formula.api as smf\n",
    "\n",
    "\n",
    "import matplotlib.pyplot as plt\n",
    "%matplotlib inline\n",
    "import seaborn as sns\n",
    "# ignore warnings\n",
    "import warnings\n",
    "warnings.filterwarnings(\"ignore\")\n",
    "\n"
   ]
  },
  {
   "cell_type": "code",
   "execution_count": 56,
   "metadata": {},
   "outputs": [
    {
     "data": {
      "text/html": [
       "<div>\n",
       "<style scoped>\n",
       "    .dataframe tbody tr th:only-of-type {\n",
       "        vertical-align: middle;\n",
       "    }\n",
       "\n",
       "    .dataframe tbody tr th {\n",
       "        vertical-align: top;\n",
       "    }\n",
       "\n",
       "    .dataframe thead th {\n",
       "        text-align: right;\n",
       "    }\n",
       "</style>\n",
       "<table border=\"1\" class=\"dataframe\">\n",
       "  <thead>\n",
       "    <tr style=\"text-align: right;\">\n",
       "      <th></th>\n",
       "      <th>Unnamed: 0</th>\n",
       "      <th>passenger_id</th>\n",
       "      <th>survived</th>\n",
       "      <th>pclass</th>\n",
       "      <th>sex</th>\n",
       "      <th>age</th>\n",
       "      <th>sibsp</th>\n",
       "      <th>parch</th>\n",
       "      <th>fare</th>\n",
       "      <th>embarked</th>\n",
       "      <th>class</th>\n",
       "      <th>deck</th>\n",
       "      <th>embark_town</th>\n",
       "      <th>alone</th>\n",
       "    </tr>\n",
       "  </thead>\n",
       "  <tbody>\n",
       "    <tr>\n",
       "      <th>1</th>\n",
       "      <td>1</td>\n",
       "      <td>1</td>\n",
       "      <td>1</td>\n",
       "      <td>1</td>\n",
       "      <td>female</td>\n",
       "      <td>38.0</td>\n",
       "      <td>1</td>\n",
       "      <td>0</td>\n",
       "      <td>71.2833</td>\n",
       "      <td>C</td>\n",
       "      <td>First</td>\n",
       "      <td>C</td>\n",
       "      <td>Cherbourg</td>\n",
       "      <td>0</td>\n",
       "    </tr>\n",
       "    <tr>\n",
       "      <th>3</th>\n",
       "      <td>3</td>\n",
       "      <td>3</td>\n",
       "      <td>1</td>\n",
       "      <td>1</td>\n",
       "      <td>female</td>\n",
       "      <td>35.0</td>\n",
       "      <td>1</td>\n",
       "      <td>0</td>\n",
       "      <td>53.1000</td>\n",
       "      <td>S</td>\n",
       "      <td>First</td>\n",
       "      <td>C</td>\n",
       "      <td>Southampton</td>\n",
       "      <td>0</td>\n",
       "    </tr>\n",
       "  </tbody>\n",
       "</table>\n",
       "</div>"
      ],
      "text/plain": [
       "   Unnamed: 0  passenger_id  survived  pclass     sex   age  sibsp  parch  \\\n",
       "1           1             1         1       1  female  38.0      1      0   \n",
       "3           3             3         1       1  female  35.0      1      0   \n",
       "\n",
       "      fare embarked  class deck  embark_town  alone  \n",
       "1  71.2833        C  First    C    Cherbourg      0  \n",
       "3  53.1000        S  First    C  Southampton      0  "
      ]
     },
     "execution_count": 56,
     "metadata": {},
     "output_type": "execute_result"
    }
   ],
   "source": [
    "titanic= pd.read_csv(\"titanic.csv\")\n",
    "titanic.dropna(inplace=True)\n",
    "titanic.head(2)"
   ]
  },
  {
   "cell_type": "markdown",
   "metadata": {},
   "source": [
    "<li>Create another model that includes age in addition to fare and pclass. Does this model perform better than your previous one? </li>"
   ]
  },
  {
   "cell_type": "code",
   "execution_count": 93,
   "metadata": {},
   "outputs": [
    {
     "name": "stdout",
     "output_type": "stream",
     "text": [
      "train:  (101, 3) , validate:  (44, 3) , test:  (37, 3)\n",
      "train:  (101, 1) , validate:  (44, 1) , test:  (37, 1)\n"
     ]
    }
   ],
   "source": [
    "X = titanic[['pclass','age','fare']]\n",
    "y = titanic[['survived']]\n",
    "\n",
    "X_train_validate, X_test, y_train_validate, y_test = train_test_split(X, y, test_size = .20, random_state = 123)\n",
    "\n",
    "X_train, X_validate, y_train, y_validate = train_test_split(X_train_validate, y_train_validate, test_size = .30, random_state = 123)\n",
    "\n",
    "\n",
    "print(\"train: \", X_train.shape, \", validate: \", X_validate.shape, \", test: \", X_test.shape)\n",
    "print(\"train: \", y_train.shape, \", validate: \", y_validate.shape, \", test: \", y_test.shape)\n",
    "\n"
   ]
  },
  {
   "cell_type": "code",
   "execution_count": 96,
   "metadata": {},
   "outputs": [],
   "source": [
    "## Create the logistic regression object\n",
    "logit = LogisticRegression(C=1, class_weight={0:1, 1:99}, random_state=123, intercept_scaling=1, solver='lbfgs')"
   ]
  },
  {
   "cell_type": "code",
   "execution_count": 97,
   "metadata": {},
   "outputs": [
    {
     "data": {
      "text/plain": [
       "LogisticRegression(C=1, class_weight={0: 1, 1: 99}, dual=False,\n",
       "                   fit_intercept=True, intercept_scaling=1, l1_ratio=None,\n",
       "                   max_iter=100, multi_class='auto', n_jobs=None, penalty='l2',\n",
       "                   random_state=123, solver='lbfgs', tol=0.0001, verbose=0,\n",
       "                   warm_start=False)"
      ]
     },
     "execution_count": 97,
     "metadata": {},
     "output_type": "execute_result"
    }
   ],
   "source": [
    "## Fit the model to the training data\n",
    "logit.fit(X_train, y_train)"
   ]
  },
  {
   "cell_type": "code",
   "execution_count": 98,
   "metadata": {},
   "outputs": [
    {
     "name": "stdout",
     "output_type": "stream",
     "text": [
      "Coefficient: \n",
      " [[-0.53817351 -0.07690244  0.00671826]]\n",
      "Intercept: \n",
      " [8.16080691]\n"
     ]
    }
   ],
   "source": [
    "## Print the coefficients and intercept of the model\n",
    "print('Coefficient: \\n', logit.coef_)\n",
    "print('Intercept: \\n', logit.intercept_)"
   ]
  },
  {
   "cell_type": "code",
   "execution_count": 99,
   "metadata": {},
   "outputs": [
    {
     "data": {
      "text/plain": [
       "Index(['pclass', 'age', 'fare'], dtype='object')"
      ]
     },
     "execution_count": 99,
     "metadata": {},
     "output_type": "execute_result"
    }
   ],
   "source": [
    "X_train.columns"
   ]
  },
  {
   "cell_type": "code",
   "execution_count": 100,
   "metadata": {},
   "outputs": [
    {
     "data": {
      "text/plain": [
       "array([[9.78367950e-03, 9.90216321e-01],\n",
       "       [4.56900311e-03, 9.95430997e-01],\n",
       "       [8.76355108e-04, 9.99123645e-01],\n",
       "       [1.81117517e-03, 9.98188825e-01],\n",
       "       [3.30877322e-03, 9.96691227e-01],\n",
       "       [4.31388667e-03, 9.95686113e-01],\n",
       "       [9.23826314e-03, 9.90761737e-01],\n",
       "       [4.89918870e-04, 9.99510081e-01],\n",
       "       [1.45480631e-03, 9.98545194e-01],\n",
       "       [1.80619956e-02, 9.81938004e-01],\n",
       "       [4.61765488e-03, 9.95382345e-01],\n",
       "       [9.38762856e-04, 9.99061237e-01],\n",
       "       [4.10328708e-03, 9.95896713e-01],\n",
       "       [1.62142823e-02, 9.83785718e-01],\n",
       "       [1.89669833e-04, 9.99810330e-01],\n",
       "       [8.57839590e-04, 9.99142160e-01],\n",
       "       [3.34983586e-04, 9.99665016e-01],\n",
       "       [4.31892031e-03, 9.95681080e-01],\n",
       "       [1.03833461e-02, 9.89616654e-01],\n",
       "       [4.94222813e-03, 9.95057772e-01],\n",
       "       [1.55270462e-02, 9.84472954e-01],\n",
       "       [1.15187242e-02, 9.88481276e-01],\n",
       "       [2.32489082e-03, 9.97675109e-01],\n",
       "       [2.14924298e-02, 9.78507570e-01],\n",
       "       [3.70629032e-03, 9.96293710e-01],\n",
       "       [1.26010772e-02, 9.87398923e-01],\n",
       "       [9.95813684e-03, 9.90041863e-01],\n",
       "       [6.40775169e-04, 9.99359225e-01],\n",
       "       [4.59548237e-02, 9.54045176e-01],\n",
       "       [1.04926112e-02, 9.89507389e-01],\n",
       "       [1.47410818e-03, 9.98525892e-01],\n",
       "       [3.83813734e-04, 9.99616186e-01],\n",
       "       [1.14237908e-03, 9.98857621e-01],\n",
       "       [1.10292810e-02, 9.88970719e-01],\n",
       "       [3.46926469e-03, 9.96530735e-01],\n",
       "       [3.60580149e-03, 9.96394199e-01],\n",
       "       [3.76761840e-03, 9.96232382e-01],\n",
       "       [3.33177760e-02, 9.66682224e-01],\n",
       "       [1.74218474e-03, 9.98257815e-01],\n",
       "       [9.67540440e-03, 9.90324596e-01],\n",
       "       [3.60236152e-04, 9.99639764e-01],\n",
       "       [1.13304378e-03, 9.98866956e-01],\n",
       "       [5.08824600e-04, 9.99491175e-01],\n",
       "       [9.26256886e-03, 9.90737431e-01],\n",
       "       [2.74099342e-03, 9.97259007e-01],\n",
       "       [1.36446910e-02, 9.86355309e-01],\n",
       "       [1.24944079e-02, 9.87505592e-01],\n",
       "       [2.12771721e-02, 9.78722828e-01],\n",
       "       [2.29999786e-03, 9.97700002e-01],\n",
       "       [2.89385304e-03, 9.97106147e-01],\n",
       "       [1.28637647e-02, 9.87136235e-01],\n",
       "       [2.90069764e-03, 9.97099302e-01],\n",
       "       [8.81164186e-03, 9.91188358e-01],\n",
       "       [7.81728550e-03, 9.92182715e-01],\n",
       "       [1.09896839e-03, 9.98901032e-01],\n",
       "       [1.15802840e-02, 9.88419716e-01],\n",
       "       [1.85163779e-02, 9.81483622e-01],\n",
       "       [1.99836448e-02, 9.80016355e-01],\n",
       "       [6.48714901e-03, 9.93512851e-01],\n",
       "       [4.21871989e-04, 9.99578128e-01],\n",
       "       [8.35259474e-02, 9.16474053e-01],\n",
       "       [8.20045884e-04, 9.99179954e-01],\n",
       "       [4.08301820e-02, 9.59169818e-01],\n",
       "       [1.42481220e-02, 9.85751878e-01],\n",
       "       [1.76885166e-03, 9.98231148e-01],\n",
       "       [9.41419002e-04, 9.99058581e-01],\n",
       "       [1.96771285e-03, 9.98032287e-01],\n",
       "       [1.94111333e-03, 9.98058887e-01],\n",
       "       [1.02584976e-02, 9.89741502e-01],\n",
       "       [1.48719668e-02, 9.85128033e-01],\n",
       "       [2.08961819e-03, 9.97910382e-01],\n",
       "       [3.23224021e-03, 9.96767760e-01],\n",
       "       [6.18984676e-03, 9.93810153e-01],\n",
       "       [8.69336216e-04, 9.99130664e-01],\n",
       "       [1.10687087e-02, 9.88931291e-01],\n",
       "       [1.81790414e-02, 9.81820959e-01],\n",
       "       [1.93921674e-02, 9.80607833e-01],\n",
       "       [4.27731893e-03, 9.95722681e-01],\n",
       "       [7.21156934e-03, 9.92788431e-01],\n",
       "       [1.56811515e-02, 9.84318849e-01],\n",
       "       [3.35100831e-02, 9.66489917e-01],\n",
       "       [5.60073589e-03, 9.94399264e-01],\n",
       "       [5.58473589e-03, 9.94415264e-01],\n",
       "       [1.14251380e-03, 9.98857486e-01],\n",
       "       [1.54730345e-02, 9.84526966e-01],\n",
       "       [1.38315903e-02, 9.86168410e-01],\n",
       "       [5.88803562e-02, 9.41119644e-01],\n",
       "       [1.61478880e-02, 9.83852112e-01],\n",
       "       [1.31896814e-02, 9.86810319e-01],\n",
       "       [4.11415699e-02, 9.58858430e-01],\n",
       "       [1.20722216e-03, 9.98792778e-01],\n",
       "       [5.29060653e-04, 9.99470939e-01],\n",
       "       [1.94111333e-03, 9.98058887e-01],\n",
       "       [6.84902991e-03, 9.93150970e-01],\n",
       "       [1.55803386e-03, 9.98441966e-01],\n",
       "       [1.44237047e-02, 9.85576295e-01],\n",
       "       [2.47343927e-03, 9.97526561e-01],\n",
       "       [1.76459973e-03, 9.98235400e-01],\n",
       "       [1.15091217e-02, 9.88490878e-01],\n",
       "       [1.33847009e-03, 9.98661530e-01],\n",
       "       [2.66512496e-02, 9.73348750e-01]])"
      ]
     },
     "execution_count": 100,
     "metadata": {},
     "output_type": "execute_result"
    }
   ],
   "source": [
    "y_pred = logit.predict(X_train)\n",
    "y_pred_proba = logit.predict_proba(X_train)\n",
    "y_pred_proba"
   ]
  },
  {
   "cell_type": "code",
   "execution_count": 62,
   "metadata": {},
   "outputs": [
    {
     "data": {
      "text/plain": [
       "0.6336633663366337"
      ]
     },
     "execution_count": 62,
     "metadata": {},
     "output_type": "execute_result"
    }
   ],
   "source": [
    "# accuracy\n",
    "logit.score(X_train, y_train)"
   ]
  },
  {
   "cell_type": "code",
   "execution_count": 101,
   "metadata": {},
   "outputs": [
    {
     "name": "stdout",
     "output_type": "stream",
     "text": [
      "[[ 0 37]\n",
      " [ 0 64]]\n"
     ]
    }
   ],
   "source": [
    "# confusion matrix\n",
    "print(confusion_matrix(y_train, y_pred))"
   ]
  },
  {
   "cell_type": "code",
   "execution_count": 102,
   "metadata": {},
   "outputs": [
    {
     "name": "stdout",
     "output_type": "stream",
     "text": [
      "              precision    recall  f1-score   support\n",
      "\n",
      "           0       0.00      0.00      0.00        37\n",
      "           1       0.63      1.00      0.78        64\n",
      "\n",
      "    accuracy                           0.63       101\n",
      "   macro avg       0.32      0.50      0.39       101\n",
      "weighted avg       0.40      0.63      0.49       101\n",
      "\n"
     ]
    }
   ],
   "source": [
    "# classification report\n",
    "print(classification_report(y_train, y_pred))"
   ]
  },
  {
   "cell_type": "markdown",
   "metadata": {},
   "source": [
    "<li>Include sex in your model as well. Note that you'll need to encode or create a dummy variable of this feature before including it in a model. </li>"
   ]
  },
  {
   "cell_type": "code",
   "execution_count": 66,
   "metadata": {},
   "outputs": [
    {
     "data": {
      "text/html": [
       "<div>\n",
       "<style scoped>\n",
       "    .dataframe tbody tr th:only-of-type {\n",
       "        vertical-align: middle;\n",
       "    }\n",
       "\n",
       "    .dataframe tbody tr th {\n",
       "        vertical-align: top;\n",
       "    }\n",
       "\n",
       "    .dataframe thead th {\n",
       "        text-align: right;\n",
       "    }\n",
       "</style>\n",
       "<table border=\"1\" class=\"dataframe\">\n",
       "  <thead>\n",
       "    <tr style=\"text-align: right;\">\n",
       "      <th></th>\n",
       "      <th>Unnamed: 0</th>\n",
       "      <th>passenger_id</th>\n",
       "      <th>survived</th>\n",
       "      <th>pclass</th>\n",
       "      <th>sex</th>\n",
       "      <th>age</th>\n",
       "      <th>sibsp</th>\n",
       "      <th>parch</th>\n",
       "      <th>fare</th>\n",
       "      <th>embarked</th>\n",
       "      <th>class</th>\n",
       "      <th>deck</th>\n",
       "      <th>embark_town</th>\n",
       "      <th>alone</th>\n",
       "      <th>gender</th>\n",
       "    </tr>\n",
       "  </thead>\n",
       "  <tbody>\n",
       "    <tr>\n",
       "      <th>1</th>\n",
       "      <td>1</td>\n",
       "      <td>1</td>\n",
       "      <td>1</td>\n",
       "      <td>1</td>\n",
       "      <td>female</td>\n",
       "      <td>38.0</td>\n",
       "      <td>1</td>\n",
       "      <td>0</td>\n",
       "      <td>71.2833</td>\n",
       "      <td>C</td>\n",
       "      <td>First</td>\n",
       "      <td>C</td>\n",
       "      <td>Cherbourg</td>\n",
       "      <td>0</td>\n",
       "      <td>True</td>\n",
       "    </tr>\n",
       "  </tbody>\n",
       "</table>\n",
       "</div>"
      ],
      "text/plain": [
       "   Unnamed: 0  passenger_id  survived  pclass     sex   age  sibsp  parch  \\\n",
       "1           1             1         1       1  female  38.0      1      0   \n",
       "\n",
       "      fare embarked  class deck embark_town  alone  gender  \n",
       "1  71.2833        C  First    C   Cherbourg      0    True  "
      ]
     },
     "execution_count": 66,
     "metadata": {},
     "output_type": "execute_result"
    }
   ],
   "source": [
    "titanic['gender'] = titanic.sex == 'female'\n",
    "titanic.head(1)"
   ]
  },
  {
   "cell_type": "code",
   "execution_count": 77,
   "metadata": {},
   "outputs": [
    {
     "name": "stdout",
     "output_type": "stream",
     "text": [
      "train:  (101, 3) , validate:  (44, 3) , test:  (37, 3)\n",
      "train:  (101, 1) , validate:  (44, 1) , test:  (37, 1)\n"
     ]
    }
   ],
   "source": [
    "X = titanic[['age','fare', 'gender']]\n",
    "y = titanic[['survived']]\n",
    "\n",
    "X_train_validate, X_test, y_train_validate, y_test = train_test_split(X, y, test_size = .20, random_state = 123)\n",
    "\n",
    "X_train, X_validate, y_train, y_validate = train_test_split(X_train_validate, y_train_validate, test_size = .30, random_state = 123)\n",
    "\n",
    "\n",
    "print(\"train: \", X_train.shape, \", validate: \", X_validate.shape, \", test: \", X_test.shape)\n",
    "print(\"train: \", y_train.shape, \", validate: \", y_validate.shape, \", test: \", y_test.shape)\n"
   ]
  },
  {
   "cell_type": "code",
   "execution_count": 87,
   "metadata": {},
   "outputs": [],
   "source": [
    "logit2 = logit.fit(X_train, y_train)"
   ]
  },
  {
   "cell_type": "code",
   "execution_count": 89,
   "metadata": {},
   "outputs": [
    {
     "name": "stdout",
     "output_type": "stream",
     "text": [
      "Coefficient: \n",
      " [[-7.43719410e-02 -9.26884603e-04  2.37922383e+00]]\n",
      "Intercept: \n",
      " [7.04768651]\n"
     ]
    }
   ],
   "source": [
    "print('Coefficient: \\n', logit2.coef_)\n",
    "print('Intercept: \\n', logit2.intercept_)"
   ]
  },
  {
   "cell_type": "code",
   "execution_count": 80,
   "metadata": {},
   "outputs": [
    {
     "data": {
      "text/plain": [
       "Index(['age', 'fare', 'gender'], dtype='object')"
      ]
     },
     "execution_count": 80,
     "metadata": {},
     "output_type": "execute_result"
    }
   ],
   "source": [
    "X_train.columns"
   ]
  },
  {
   "cell_type": "code",
   "execution_count": 90,
   "metadata": {},
   "outputs": [
    {
     "data": {
      "text/plain": [
       "array([[2.78367147e-02, 9.72163285e-01],\n",
       "       [1.34237939e-02, 9.86576206e-01],\n",
       "       [1.12406759e-04, 9.99887593e-01],\n",
       "       [6.03594826e-03, 9.93964052e-01],\n",
       "       [7.15780934e-03, 9.92842191e-01],\n",
       "       [9.83490397e-04, 9.99016510e-01],\n",
       "       [5.58929407e-03, 9.94410706e-01],\n",
       "       [5.68133951e-04, 9.99431866e-01],\n",
       "       [4.12508470e-04, 9.99587492e-01],\n",
       "       [4.78115113e-03, 9.95218849e-01],\n",
       "       [1.92098423e-03, 9.98079016e-01],\n",
       "       [3.65479482e-03, 9.96345205e-01],\n",
       "       [1.17358164e-03, 9.98826418e-01],\n",
       "       [2.92065108e-03, 9.97079349e-01],\n",
       "       [1.07024704e-03, 9.98929753e-01],\n",
       "       [3.39995449e-03, 9.96600046e-01],\n",
       "       [3.91542822e-04, 9.99608457e-01],\n",
       "       [4.15661042e-03, 9.95843390e-01],\n",
       "       [1.09112358e-02, 9.89088764e-01],\n",
       "       [1.57021155e-02, 9.84297885e-01],\n",
       "       [4.12307185e-03, 9.95876928e-01],\n",
       "       [1.32684149e-02, 9.86731585e-01],\n",
       "       [6.90538100e-03, 9.93094619e-01],\n",
       "       [4.81754514e-02, 9.51824549e-01],\n",
       "       [7.66730171e-03, 9.92332698e-01],\n",
       "       [2.77945406e-03, 9.97220546e-01],\n",
       "       [3.55476845e-02, 9.64452315e-01],\n",
       "       [2.54876379e-04, 9.99745124e-01],\n",
       "       [8.22608900e-02, 9.17739110e-01],\n",
       "       [1.67443402e-02, 9.83255660e-01],\n",
       "       [3.73821419e-03, 9.96261786e-01],\n",
       "       [1.26133112e-03, 9.98738669e-01],\n",
       "       [3.30560898e-04, 9.99669439e-01],\n",
       "       [2.73881391e-02, 9.72611861e-01],\n",
       "       [1.39384100e-02, 9.86061590e-01],\n",
       "       [9.10915969e-03, 9.90890840e-01],\n",
       "       [1.81511323e-03, 9.98184887e-01],\n",
       "       [1.95128883e-02, 9.80487112e-01],\n",
       "       [1.10107465e-04, 9.99889893e-01],\n",
       "       [2.23605202e-03, 9.97763948e-01],\n",
       "       [4.53741995e-03, 9.95462580e-01],\n",
       "       [2.79223362e-04, 9.99720777e-01],\n",
       "       [2.19720622e-03, 9.97802794e-01],\n",
       "       [9.13080737e-04, 9.99086919e-01],\n",
       "       [8.11692804e-04, 9.99188307e-01],\n",
       "       [3.13820151e-02, 9.68617985e-01],\n",
       "       [3.29658517e-03, 9.96703415e-01],\n",
       "       [4.10095720e-02, 9.58990428e-01],\n",
       "       [5.84097223e-03, 9.94159028e-01],\n",
       "       [1.23164035e-03, 9.98768360e-01],\n",
       "       [2.46904020e-02, 9.75309598e-01],\n",
       "       [7.92977133e-03, 9.92070229e-01],\n",
       "       [2.59933482e-02, 9.74006652e-01],\n",
       "       [2.43184368e-02, 9.75681563e-01],\n",
       "       [8.45920774e-04, 9.99154079e-01],\n",
       "       [3.20862864e-02, 9.67913714e-01],\n",
       "       [3.39618656e-03, 9.96603813e-01],\n",
       "       [4.33157886e-03, 9.95668421e-01],\n",
       "       [1.27948079e-02, 9.87205192e-01],\n",
       "       [4.89367061e-04, 9.99510633e-01],\n",
       "       [1.49928972e-01, 8.50071028e-01],\n",
       "       [1.03239230e-03, 9.98967608e-01],\n",
       "       [7.72759478e-02, 9.22724052e-01],\n",
       "       [2.87297405e-02, 9.71270260e-01],\n",
       "       [5.18057771e-04, 9.99481942e-01],\n",
       "       [7.81699002e-03, 9.92183010e-01],\n",
       "       [1.67563313e-03, 9.98324367e-01],\n",
       "       [5.11449233e-04, 9.99488551e-01],\n",
       "       [1.98461502e-02, 9.80153850e-01],\n",
       "       [6.88777394e-03, 9.93112226e-01],\n",
       "       [1.37230260e-03, 9.98627697e-01],\n",
       "       [1.66376296e-02, 9.83362370e-01],\n",
       "       [6.05327363e-04, 9.99394673e-01],\n",
       "       [3.15306631e-04, 9.99684693e-01],\n",
       "       [3.80359337e-02, 9.61964066e-01],\n",
       "       [4.92676410e-02, 9.50732359e-01],\n",
       "       [6.72875911e-02, 9.32712409e-01],\n",
       "       [1.78354584e-03, 9.98216454e-01],\n",
       "       [7.02339015e-04, 9.99297661e-01],\n",
       "       [9.37468902e-03, 9.90625311e-01],\n",
       "       [6.25858801e-02, 9.37414120e-01],\n",
       "       [1.45005138e-03, 9.98549949e-01],\n",
       "       [1.57908956e-03, 9.98420910e-01],\n",
       "       [3.59864323e-04, 9.99640136e-01],\n",
       "       [3.63590157e-02, 9.63640984e-01],\n",
       "       [2.88458179e-02, 9.71154182e-01],\n",
       "       [5.60777659e-03, 9.94392223e-01],\n",
       "       [3.06728418e-02, 9.69327158e-01],\n",
       "       [2.56470020e-02, 9.74352998e-01],\n",
       "       [7.71980494e-02, 9.22801951e-01],\n",
       "       [5.94531322e-04, 9.99405469e-01],\n",
       "       [6.11971247e-04, 9.99388029e-01],\n",
       "       [5.11449233e-04, 9.99488551e-01],\n",
       "       [1.38108152e-02, 9.86189185e-01],\n",
       "       [9.43439631e-05, 9.99905656e-01],\n",
       "       [3.82759758e-03, 9.96172402e-01],\n",
       "       [8.96256450e-04, 9.99103744e-01],\n",
       "       [3.38894800e-04, 9.99661105e-01],\n",
       "       [3.48620539e-02, 9.65137946e-01],\n",
       "       [4.94552367e-04, 9.99505448e-01],\n",
       "       [5.07404052e-02, 9.49259595e-01]])"
      ]
     },
     "execution_count": 90,
     "metadata": {},
     "output_type": "execute_result"
    }
   ],
   "source": [
    "y_pred = logit2.predict(X_train)\n",
    "y_pred_proba = logit.predict_proba(X_train)\n",
    "y_pred_proba"
   ]
  },
  {
   "cell_type": "code",
   "execution_count": 91,
   "metadata": {},
   "outputs": [
    {
     "data": {
      "text/plain": [
       "0.6336633663366337"
      ]
     },
     "execution_count": 91,
     "metadata": {},
     "output_type": "execute_result"
    }
   ],
   "source": [
    "# accuracy\n",
    "logit2.score(X_train, y_train)"
   ]
  },
  {
   "cell_type": "code",
   "execution_count": 84,
   "metadata": {},
   "outputs": [
    {
     "name": "stdout",
     "output_type": "stream",
     "text": [
      "[[ 0 37]\n",
      " [ 0 64]]\n"
     ]
    }
   ],
   "source": [
    "# confusion matrix\n",
    "print(confusion_matrix(y_train, y_pred))"
   ]
  },
  {
   "cell_type": "code",
   "execution_count": 85,
   "metadata": {},
   "outputs": [
    {
     "name": "stdout",
     "output_type": "stream",
     "text": [
      "              precision    recall  f1-score   support\n",
      "\n",
      "           0       0.00      0.00      0.00        37\n",
      "           1       0.63      1.00      0.78        64\n",
      "\n",
      "    accuracy                           0.63       101\n",
      "   macro avg       0.32      0.50      0.39       101\n",
      "weighted avg       0.40      0.63      0.49       101\n",
      "\n"
     ]
    }
   ],
   "source": [
    "# classification report\n",
    "print(classification_report(y_train, y_pred))"
   ]
  },
  {
   "cell_type": "code",
   "execution_count": 103,
   "metadata": {},
   "outputs": [
    {
     "name": "stdout",
     "output_type": "stream",
     "text": [
      "Model 1: solver = lbfgs, c = 1\n",
      "Accuracy: 0.66\n",
      "[[ 0 15]\n",
      " [ 0 29]]\n",
      "              precision    recall  f1-score   support\n",
      "\n",
      "           0       0.00      0.00      0.00        15\n",
      "           1       0.66      1.00      0.79        29\n",
      "\n",
      "    accuracy                           0.66        44\n",
      "   macro avg       0.33      0.50      0.40        44\n",
      "weighted avg       0.43      0.66      0.52        44\n",
      "\n",
      "Model 2: solver = lbfgs, c = .1\n",
      "Accuracy: 0.66\n",
      "[[ 0 15]\n",
      " [ 0 29]]\n",
      "              precision    recall  f1-score   support\n",
      "\n",
      "           0       0.00      0.00      0.00        15\n",
      "           1       0.66      1.00      0.79        29\n",
      "\n",
      "    accuracy                           0.66        44\n",
      "   macro avg       0.33      0.50      0.40        44\n",
      "weighted avg       0.43      0.66      0.52        44\n",
      "\n"
     ]
    }
   ],
   "source": [
    "y_pred1 = logit.predict(X_validate)\n",
    "y_pred2 = logit2.predict(X_validate)\n",
    "\n",
    "print(\"Model 1: solver = lbfgs, c = 1\")\n",
    "\n",
    "print('Accuracy: {:.2f}'.format(logit.score(X_validate, y_validate)))\n",
    "\n",
    "print(confusion_matrix(y_validate, y_pred1))\n",
    "\n",
    "print(classification_report(y_validate, y_pred1))\n",
    "\n",
    "print(\"Model 2: solver = lbfgs, c = .1\")\n",
    "\n",
    "print('Accuracy: {:.2f}'.format(logit2.score(X_validate, y_validate)))\n",
    "\n",
    "print(confusion_matrix(y_validate, y_pred2))\n",
    "\n",
    "print(classification_report(y_validate, y_pred2))"
   ]
  },
  {
   "cell_type": "code",
   "execution_count": null,
   "metadata": {},
   "outputs": [],
   "source": [
    "!git add "
   ]
  }
 ],
 "metadata": {
  "kernelspec": {
   "display_name": "Python 3",
   "language": "python",
   "name": "python3"
  },
  "language_info": {
   "codemirror_mode": {
    "name": "ipython",
    "version": 3
   },
   "file_extension": ".py",
   "mimetype": "text/x-python",
   "name": "python",
   "nbconvert_exporter": "python",
   "pygments_lexer": "ipython3",
   "version": "3.7.6"
  }
 },
 "nbformat": 4,
 "nbformat_minor": 4
}
